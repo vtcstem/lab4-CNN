{
 "cells": [
  {
   "cell_type": "markdown",
   "metadata": {
    "colab_type": "text",
    "id": "DPQffhRI7AG_"
   },
   "source": [
    "# Lab 4.0 Familiarize with Colab and Data Upload"
   ]
  },
  {
   "cell_type": "markdown",
   "metadata": {},
   "source": [
    "Murphy's Law said:\n",
    "**\"Anything that can possibly go wrong, does.\"**\n",
    "\n",
    "So is this lab exercise.\n",
    "\n",
    "The hardest part of this lab is *not* about building a deep neural network model, nor training, nor fine-tuning, but loading data into the virtual machine and setting up the environment. So we have prepared this special pre-quel of the Lab 4 for you to get familiarisation with Google's Colab environment.\n",
    "\n",
    "**This python notebook should be run in Google's Colab environment**\n",
    "\n",
    "To begin, upload this notebook to your Colab environment."
   ]
  },
  {
   "cell_type": "markdown",
   "metadata": {},
   "source": [
    "## Step 1: Upload dataset to your Google Drive\n",
    "\n",
    "In Lab 4, we will use the \"Plant Seedlings Dataset\" from the ***Computer Vision and Biosystems Signal Processing Group, Aarhus University, Denmark***. More information on the dataset can be found in this link: \n",
    "\n",
    "https://vision.eng.au.dk/plant-seedlings-dataset/\n",
    "\n",
    "Note that the file size of the dataset is 1.7Gb.\n",
    "\n",
    "Although Colab allows you to wget the data from URL or from your local system, it will be faster to upload the dataset into your own Google Drive in advance, and unzip it in your Colab environment for coding. \n",
    "\n",
    "Go to the following link and download the dataset (**plant_seedling_dataset.zip**) to your local storage. Then upload it into your Google Drive.\n",
    "https://drive.google.com/file/d/1nIrYxxMpOfhGavRsoHRNTdznuKx2h70F/view?usp=sharing\n"
   ]
  },
  {
   "cell_type": "markdown",
   "metadata": {
    "colab_type": "text",
    "id": "cIzgCE9zux-B"
   },
   "source": [
    "## Step 2: Upload Dataset to Colab\n",
    "\n",
    "**You should have uploaded the dataset into your Google Drive in advance.**\n",
    "\n",
    "The following code snippet will authorize access to your Google Drive and retrieve the dataset file. Execute the cell below and follow the instruction to copy and enter the access code for granting access to your google drive. Upon successful, the google drive wil be mounted to the colab as **/content/gdrive**."
   ]
  },
  {
   "cell_type": "code",
   "execution_count": null,
   "metadata": {
    "colab": {
     "base_uri": "https://localhost:8080/",
     "height": 126
    },
    "colab_type": "code",
    "executionInfo": {
     "elapsed": 24790,
     "status": "ok",
     "timestamp": 1554099439310,
     "user": {
      "displayName": "Oscar Pang",
      "photoUrl": "",
      "userId": "11270918784388816199"
     },
     "user_tz": -480
    },
    "id": "-pfPJezAhB0x",
    "outputId": "d1515884-81df-4829-e5b0-b9ade0cf5040"
   },
   "outputs": [],
   "source": [
    "from google.colab import drive\n",
    "drive.mount('/content/gdrive')"
   ]
  },
  {
   "cell_type": "markdown",
   "metadata": {
    "colab_type": "text",
    "id": "gBGrnDCWvXOc"
   },
   "source": [
    "## Step 3: Check and Unzip Dataset\n",
    "\n",
    "You can execute some basic linux terminal commands in the cell.\n",
    "\n",
    "Execute the command in the cell below for checking if you have the dataset file ready in your Google Drive mount point.\n",
    "\n",
    "Run the unzip command to unzip the dataset, which will produce two folders namely **train** and **test**. This will take a while to run."
   ]
  },
  {
   "cell_type": "code",
   "execution_count": null,
   "metadata": {
    "colab": {
     "base_uri": "https://localhost:8080/",
     "height": 35
    },
    "colab_type": "code",
    "executionInfo": {
     "elapsed": 2986,
     "status": "ok",
     "timestamp": 1554102763884,
     "user": {
      "displayName": "Oscar Pang",
      "photoUrl": "",
      "userId": "11270918784388816199"
     },
     "user_tz": -480
    },
    "id": "aY5yUJG_ulF-",
    "outputId": "3fd9f0c2-7573-40c8-bcc3-11e9e128da43"
   },
   "outputs": [],
   "source": [
    "ls /content/gdrive/My\\ Drive/public/plant_seedlings_dataset.zip "
   ]
  },
  {
   "cell_type": "code",
   "execution_count": null,
   "metadata": {
    "colab": {
     "base_uri": "https://localhost:8080/",
     "height": 99374
    },
    "colab_type": "code",
    "executionInfo": {
     "elapsed": 36904,
     "status": "ok",
     "timestamp": 1554102402821,
     "user": {
      "displayName": "Oscar Pang",
      "photoUrl": "",
      "userId": "11270918784388816199"
     },
     "user_tz": -480
    },
    "id": "iwa5LFHfjCfN",
    "outputId": "2f9808c9-71f8-4528-8b85-d92622e191ee"
   },
   "outputs": [],
   "source": [
    "!unzip /content/gdrive/My\\ Drive/public/plant*.zip "
   ]
  },
  {
   "cell_type": "code",
   "execution_count": null,
   "metadata": {
    "colab": {
     "base_uri": "https://localhost:8080/",
     "height": 35
    },
    "colab_type": "code",
    "executionInfo": {
     "elapsed": 2306,
     "status": "ok",
     "timestamp": 1554102919932,
     "user": {
      "displayName": "Oscar Pang",
      "photoUrl": "",
      "userId": "11270918784388816199"
     },
     "user_tz": -480
    },
    "id": "cSw2XuwGwAWI",
    "outputId": "a004522b-a48e-4948-b75d-9089e1543bd6"
   },
   "outputs": [],
   "source": [
    "# Run the following command to browse the \"plant_seedlings_dataset\" directory. \n",
    "# You should see two folders \"test\" and \"train\"\n",
    "ls plant_seedlings_dataset"
   ]
  },
  {
   "cell_type": "markdown",
   "metadata": {
    "colab_type": "text",
    "id": "feAr7N_xwSBC"
   },
   "source": [
    "## Download File from Colab\n",
    "\n",
    "You can also download the files from Colab environment into your local file system by executing the following codes. This will be useful for downloading and saving the trained CNN model for later use after prolong training. "
   ]
  },
  {
   "cell_type": "code",
   "execution_count": null,
   "metadata": {
    "colab": {},
    "colab_type": "code",
    "id": "cQK8bjUq8OHY"
   },
   "outputs": [],
   "source": [
    "# Download the saved model to your local system\n",
    "from google.colab import files\n",
    "\n",
    "# create a dummy text file for this example\n",
    "with open('test.txt', 'w') as f:\n",
    "  f.write('some content')\n",
    "\n",
    "files.download('test.txt')"
   ]
  },
  {
   "cell_type": "markdown",
   "metadata": {},
   "source": [
    "## Congraduations for Completing this Exercise!\n",
    "\n",
    "You can continue to explore the Colab and try some Python codes. You can also check out the tips and other code snippets in the panel in the left hand side."
   ]
  }
 ],
 "metadata": {
  "accelerator": "GPU",
  "colab": {
   "collapsed_sections": [],
   "name": "CNN_basic.ipynb",
   "provenance": [],
   "version": "0.3.2"
  },
  "kernelspec": {
   "display_name": "Python 3",
   "language": "python",
   "name": "python3"
  },
  "language_info": {
   "codemirror_mode": {
    "name": "ipython",
    "version": 3
   },
   "file_extension": ".py",
   "mimetype": "text/x-python",
   "name": "python",
   "nbconvert_exporter": "python",
   "pygments_lexer": "ipython3",
   "version": "3.6.4"
  }
 },
 "nbformat": 4,
 "nbformat_minor": 1
}
